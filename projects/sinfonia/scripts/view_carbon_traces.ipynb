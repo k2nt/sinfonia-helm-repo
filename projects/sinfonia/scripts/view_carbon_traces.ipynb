{
 "cells": [
  {
   "cell_type": "code",
   "execution_count": 5,
   "metadata": {},
   "outputs": [],
   "source": [
    "import pandas as pd"
   ]
  },
  {
   "cell_type": "code",
   "execution_count": 6,
   "metadata": {},
   "outputs": [
    {
     "data": {
      "text/html": [
       "<div>\n",
       "<style scoped>\n",
       "    .dataframe tbody tr th:only-of-type {\n",
       "        vertical-align: middle;\n",
       "    }\n",
       "\n",
       "    .dataframe tbody tr th {\n",
       "        vertical-align: top;\n",
       "    }\n",
       "\n",
       "    .dataframe thead th {\n",
       "        text-align: right;\n",
       "    }\n",
       "</style>\n",
       "<table border=\"1\" class=\"dataframe\">\n",
       "  <thead>\n",
       "    <tr style=\"text-align: right;\">\n",
       "      <th></th>\n",
       "      <th>timestamp</th>\n",
       "      <th>country</th>\n",
       "      <th>zone</th>\n",
       "      <th>zone_id</th>\n",
       "      <th>carbon_intensity_gco2_kwh_direct</th>\n",
       "      <th>carbon_intensity_gco2_kwh_lca</th>\n",
       "      <th>Low Carbon Percentage</th>\n",
       "      <th>Renewable Percentage</th>\n",
       "      <th>Data Source</th>\n",
       "      <th>is_data_estimated</th>\n",
       "      <th>Data Estimation Method</th>\n",
       "    </tr>\n",
       "  </thead>\n",
       "  <tbody>\n",
       "    <tr>\n",
       "      <th>0</th>\n",
       "      <td>1672549200</td>\n",
       "      <td>Norway</td>\n",
       "      <td>Southeast Norway</td>\n",
       "      <td>NO-NO1</td>\n",
       "      <td>24.87</td>\n",
       "      <td>51.03</td>\n",
       "      <td>96.64</td>\n",
       "      <td>76.13</td>\n",
       "      <td>entsoe.eu</td>\n",
       "      <td>False</td>\n",
       "      <td>NaN</td>\n",
       "    </tr>\n",
       "    <tr>\n",
       "      <th>1</th>\n",
       "      <td>1672552800</td>\n",
       "      <td>Norway</td>\n",
       "      <td>Southeast Norway</td>\n",
       "      <td>NO-NO1</td>\n",
       "      <td>29.19</td>\n",
       "      <td>56.17</td>\n",
       "      <td>95.99</td>\n",
       "      <td>74.32</td>\n",
       "      <td>entsoe.eu</td>\n",
       "      <td>False</td>\n",
       "      <td>NaN</td>\n",
       "    </tr>\n",
       "    <tr>\n",
       "      <th>2</th>\n",
       "      <td>1672556400</td>\n",
       "      <td>Norway</td>\n",
       "      <td>Southeast Norway</td>\n",
       "      <td>NO-NO1</td>\n",
       "      <td>33.41</td>\n",
       "      <td>61.33</td>\n",
       "      <td>95.33</td>\n",
       "      <td>73.69</td>\n",
       "      <td>entsoe.eu</td>\n",
       "      <td>False</td>\n",
       "      <td>NaN</td>\n",
       "    </tr>\n",
       "    <tr>\n",
       "      <th>3</th>\n",
       "      <td>1672560000</td>\n",
       "      <td>Norway</td>\n",
       "      <td>Southeast Norway</td>\n",
       "      <td>NO-NO1</td>\n",
       "      <td>38.48</td>\n",
       "      <td>67.45</td>\n",
       "      <td>94.54</td>\n",
       "      <td>74.58</td>\n",
       "      <td>entsoe.eu</td>\n",
       "      <td>False</td>\n",
       "      <td>NaN</td>\n",
       "    </tr>\n",
       "    <tr>\n",
       "      <th>4</th>\n",
       "      <td>1672563600</td>\n",
       "      <td>Norway</td>\n",
       "      <td>Southeast Norway</td>\n",
       "      <td>NO-NO1</td>\n",
       "      <td>36.99</td>\n",
       "      <td>65.72</td>\n",
       "      <td>94.72</td>\n",
       "      <td>74.08</td>\n",
       "      <td>entsoe.eu</td>\n",
       "      <td>False</td>\n",
       "      <td>NaN</td>\n",
       "    </tr>\n",
       "  </tbody>\n",
       "</table>\n",
       "</div>"
      ],
      "text/plain": [
       "    timestamp country              zone zone_id  \\\n",
       "0  1672549200  Norway  Southeast Norway  NO-NO1   \n",
       "1  1672552800  Norway  Southeast Norway  NO-NO1   \n",
       "2  1672556400  Norway  Southeast Norway  NO-NO1   \n",
       "3  1672560000  Norway  Southeast Norway  NO-NO1   \n",
       "4  1672563600  Norway  Southeast Norway  NO-NO1   \n",
       "\n",
       "   carbon_intensity_gco2_kwh_direct  carbon_intensity_gco2_kwh_lca  \\\n",
       "0                             24.87                          51.03   \n",
       "1                             29.19                          56.17   \n",
       "2                             33.41                          61.33   \n",
       "3                             38.48                          67.45   \n",
       "4                             36.99                          65.72   \n",
       "\n",
       "   Low Carbon Percentage  Renewable Percentage Data Source  is_data_estimated  \\\n",
       "0                  96.64                 76.13   entsoe.eu              False   \n",
       "1                  95.99                 74.32   entsoe.eu              False   \n",
       "2                  95.33                 73.69   entsoe.eu              False   \n",
       "3                  94.54                 74.58   entsoe.eu              False   \n",
       "4                  94.72                 74.08   entsoe.eu              False   \n",
       "\n",
       "  Data Estimation Method  \n",
       "0                    NaN  \n",
       "1                    NaN  \n",
       "2                    NaN  \n",
       "3                    NaN  \n",
       "4                    NaN  "
      ]
     },
     "execution_count": 6,
     "metadata": {},
     "output_type": "execute_result"
    }
   ],
   "source": [
    "a_df = pd.read_csv('../carbon_traces/NO-NO1_2023_hourly.csv')\n",
    "a_df.head()"
   ]
  },
  {
   "cell_type": "code",
   "execution_count": 8,
   "metadata": {},
   "outputs": [
    {
     "data": {
      "text/plain": [
       "0       1672549200\n",
       "1       1672552800\n",
       "2       1672556400\n",
       "3       1672560000\n",
       "4       1672563600\n",
       "           ...    \n",
       "8755    1704067200\n",
       "8756    1704070800\n",
       "8757    1704074400\n",
       "8758    1704078000\n",
       "8759    1704081600\n",
       "Name: timestamp, Length: 8760, dtype: int64"
      ]
     },
     "execution_count": 8,
     "metadata": {},
     "output_type": "execute_result"
    }
   ],
   "source": [
    "a_df['timestamp']"
   ]
  },
  {
   "cell_type": "code",
   "execution_count": null,
   "metadata": {},
   "outputs": [],
   "source": []
  }
 ],
 "metadata": {
  "kernelspec": {
   "display_name": "Python 3",
   "language": "python",
   "name": "python3"
  },
  "language_info": {
   "codemirror_mode": {
    "name": "ipython",
    "version": 3
   },
   "file_extension": ".py",
   "mimetype": "text/x-python",
   "name": "python",
   "nbconvert_exporter": "python",
   "pygments_lexer": "ipython3",
   "version": "3.11.7"
  }
 },
 "nbformat": 4,
 "nbformat_minor": 2
}
